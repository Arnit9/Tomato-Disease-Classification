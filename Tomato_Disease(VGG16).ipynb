{
 "cells": [
  {
   "cell_type": "code",
   "execution_count": 3,
   "metadata": {
    "colab": {
     "base_uri": "https://localhost:8080/",
     "height": 36
    },
    "id": "db53BT0PkFa3",
    "outputId": "6db12e2a-f3af-497d-e9c4-7a1d71e572f0"
   },
   "outputs": [
    {
     "data": {
      "text/plain": [
       "'2.11.0'"
      ]
     },
     "execution_count": 3,
     "metadata": {},
     "output_type": "execute_result"
    }
   ],
   "source": [
    "import tensorflow as tf\n",
    "tf.__version__"
   ]
  },
  {
   "cell_type": "code",
   "execution_count": 4,
   "metadata": {
    "id": "tLbi7C1Rk0wo"
   },
   "outputs": [],
   "source": [
    "# import the desired librabries\n",
    "\n",
    "from tensorflow.keras.layers import Input, Lambda, Dense, Flatten\n",
    "from tensorflow.keras.models import Model\n",
    "from tensorflow.keras.applications.vgg16 import VGG16\n",
    "\n",
    "from tensorflow.keras.applications.vgg16 import preprocess_input\n",
    "from tensorflow.keras.preprocessing import image\n",
    "from tensorflow.keras.preprocessing.image import ImageDataGenerator,load_img\n",
    "from tensorflow.keras.models import Sequential\n",
    "import numpy as np\n",
    "from glob import glob\n",
    "\n",
    "#import matplotlib.pyplot as plt"
   ]
  },
  {
   "cell_type": "code",
   "execution_count": 5,
   "metadata": {
    "id": "UZzXwat1lbNv"
   },
   "outputs": [],
   "source": [
    "# re-size all the images to this\n",
    "IMAGE_SIZE = [224, 224]\n",
    "\n",
    "train_path = 'New Plant Diseases Dataset(Augmented)/train'\n",
    "valid_path = 'New Plant Diseases Dataset(Augmented)/valid'"
   ]
  },
  {
   "cell_type": "code",
   "execution_count": 6,
   "metadata": {
    "id": "AiXso_-ulrX0"
   },
   "outputs": [],
   "source": [
    "# Here we will be using imagenet weights\n",
    "\n",
    "vgg = VGG16(input_shape=IMAGE_SIZE + [3], weights='imagenet', include_top=False)"
   ]
  },
  {
   "cell_type": "code",
   "execution_count": 7,
   "metadata": {
    "id": "tcUFgCKjlzOa"
   },
   "outputs": [],
   "source": [
    "# don't train existing weights\n",
    "for layer in vgg.layers:\n",
    "    layer.trainable = False"
   ]
  },
  {
   "cell_type": "code",
   "execution_count": 8,
   "metadata": {
    "colab": {
     "base_uri": "https://localhost:8080/"
    },
    "id": "dbBH_Q7Kl_oE",
    "outputId": "f29b185e-bd37-4c99-90cf-951db399219e"
   },
   "outputs": [
    {
     "data": {
      "text/plain": [
       "['New Plant Diseases Dataset(Augmented)/train\\\\Tomato___Bacterial_spot',\n",
       " 'New Plant Diseases Dataset(Augmented)/train\\\\Tomato___Early_blight',\n",
       " 'New Plant Diseases Dataset(Augmented)/train\\\\Tomato___healthy',\n",
       " 'New Plant Diseases Dataset(Augmented)/train\\\\Tomato___Late_blight',\n",
       " 'New Plant Diseases Dataset(Augmented)/train\\\\Tomato___Leaf_Mold',\n",
       " 'New Plant Diseases Dataset(Augmented)/train\\\\Tomato___Septoria_leaf_spot',\n",
       " 'New Plant Diseases Dataset(Augmented)/train\\\\Tomato___Spider_mites Two-spotted_spider_mite',\n",
       " 'New Plant Diseases Dataset(Augmented)/train\\\\Tomato___Target_Spot',\n",
       " 'New Plant Diseases Dataset(Augmented)/train\\\\Tomato___Tomato_mosaic_virus',\n",
       " 'New Plant Diseases Dataset(Augmented)/train\\\\Tomato___Tomato_Yellow_Leaf_Curl_Virus']"
      ]
     },
     "execution_count": 8,
     "metadata": {},
     "output_type": "execute_result"
    }
   ],
   "source": [
    "# useful for getting number of output classes\n",
    "folders = glob('New Plant Diseases Dataset(Augmented)/train/*')\n",
    "folders"
   ]
  },
  {
   "cell_type": "code",
   "execution_count": 9,
   "metadata": {
    "id": "o7BP9_5XmLbf"
   },
   "outputs": [],
   "source": [
    "# our layers - you can add more if you want\n",
    "x = Flatten()(vgg.output)"
   ]
  },
  {
   "cell_type": "code",
   "execution_count": 10,
   "metadata": {
    "id": "Qyqave4rmdJf"
   },
   "outputs": [],
   "source": [
    "prediction = Dense(len(folders), activation='softmax')(x)\n",
    "\n",
    "# create a model object\n",
    "model = Model(inputs=vgg.input, outputs=prediction)"
   ]
  },
  {
   "cell_type": "code",
   "execution_count": 11,
   "metadata": {
    "colab": {
     "base_uri": "https://localhost:8080/"
    },
    "id": "bNshEvZ_meuG",
    "outputId": "09bdd3f9-9153-4f02-aaad-d1b5e5b73579"
   },
   "outputs": [
    {
     "name": "stdout",
     "output_type": "stream",
     "text": [
      "Model: \"model\"\n",
      "_________________________________________________________________\n",
      " Layer (type)                Output Shape              Param #   \n",
      "=================================================================\n",
      " input_1 (InputLayer)        [(None, 224, 224, 3)]     0         \n",
      "                                                                 \n",
      " block1_conv1 (Conv2D)       (None, 224, 224, 64)      1792      \n",
      "                                                                 \n",
      " block1_conv2 (Conv2D)       (None, 224, 224, 64)      36928     \n",
      "                                                                 \n",
      " block1_pool (MaxPooling2D)  (None, 112, 112, 64)      0         \n",
      "                                                                 \n",
      " block2_conv1 (Conv2D)       (None, 112, 112, 128)     73856     \n",
      "                                                                 \n",
      " block2_conv2 (Conv2D)       (None, 112, 112, 128)     147584    \n",
      "                                                                 \n",
      " block2_pool (MaxPooling2D)  (None, 56, 56, 128)       0         \n",
      "                                                                 \n",
      " block3_conv1 (Conv2D)       (None, 56, 56, 256)       295168    \n",
      "                                                                 \n",
      " block3_conv2 (Conv2D)       (None, 56, 56, 256)       590080    \n",
      "                                                                 \n",
      " block3_conv3 (Conv2D)       (None, 56, 56, 256)       590080    \n",
      "                                                                 \n",
      " block3_pool (MaxPooling2D)  (None, 28, 28, 256)       0         \n",
      "                                                                 \n",
      " block4_conv1 (Conv2D)       (None, 28, 28, 512)       1180160   \n",
      "                                                                 \n",
      " block4_conv2 (Conv2D)       (None, 28, 28, 512)       2359808   \n",
      "                                                                 \n",
      " block4_conv3 (Conv2D)       (None, 28, 28, 512)       2359808   \n",
      "                                                                 \n",
      " block4_pool (MaxPooling2D)  (None, 14, 14, 512)       0         \n",
      "                                                                 \n",
      " block5_conv1 (Conv2D)       (None, 14, 14, 512)       2359808   \n",
      "                                                                 \n",
      " block5_conv2 (Conv2D)       (None, 14, 14, 512)       2359808   \n",
      "                                                                 \n",
      " block5_conv3 (Conv2D)       (None, 14, 14, 512)       2359808   \n",
      "                                                                 \n",
      " block5_pool (MaxPooling2D)  (None, 7, 7, 512)         0         \n",
      "                                                                 \n",
      " flatten (Flatten)           (None, 25088)             0         \n",
      "                                                                 \n",
      " dense (Dense)               (None, 10)                250890    \n",
      "                                                                 \n",
      "=================================================================\n",
      "Total params: 14,965,578\n",
      "Trainable params: 250,890\n",
      "Non-trainable params: 14,714,688\n",
      "_________________________________________________________________\n"
     ]
    }
   ],
   "source": [
    "# view the structure of the model\n",
    "model.summary()"
   ]
  },
  {
   "cell_type": "code",
   "execution_count": 12,
   "metadata": {
    "id": "3aYeyiZJmghN"
   },
   "outputs": [],
   "source": [
    "# tell the model what cost and optimization method to use\n",
    "model.compile(\n",
    "  loss='categorical_crossentropy',\n",
    "  optimizer='adam',\n",
    "  metrics=['accuracy']\n",
    ")"
   ]
  },
  {
   "cell_type": "code",
   "execution_count": 13,
   "metadata": {
    "id": "3ikun_TnmowJ"
   },
   "outputs": [],
   "source": [
    "# Use the Image Data Generator to import the images from the dataset\n",
    "from tensorflow.keras.preprocessing.image import ImageDataGenerator\n",
    "\n",
    "train_datagen = ImageDataGenerator(rescale = 1./255,\n",
    "                                   shear_range = 0.2,\n",
    "                                   zoom_range = 0.2,\n",
    "                                   horizontal_flip = True)\n",
    "\n",
    "test_datagen = ImageDataGenerator(rescale = 1./255)"
   ]
  },
  {
   "cell_type": "code",
   "execution_count": 14,
   "metadata": {
    "colab": {
     "base_uri": "https://localhost:8080/"
    },
    "id": "SQRllYuEmrGb",
    "outputId": "f4ef8043-c310-4523-de14-1f930f211fd4"
   },
   "outputs": [
    {
     "name": "stdout",
     "output_type": "stream",
     "text": [
      "Found 18345 images belonging to 10 classes.\n"
     ]
    }
   ],
   "source": [
    "# Make sure you provide the same target size as initialied for the image size\n",
    "training_set = train_datagen.flow_from_directory('New Plant Diseases Dataset(Augmented)/train',\n",
    "                                                 target_size = (224, 224),\n",
    "                                                 batch_size = 32,\n",
    "                                                 class_mode = 'categorical')"
   ]
  },
  {
   "cell_type": "code",
   "execution_count": 15,
   "metadata": {
    "colab": {
     "base_uri": "https://localhost:8080/"
    },
    "id": "p9rqGL6Amxjc",
    "outputId": "3bf0d77f-e375-4505-af43-8647f523ceb6"
   },
   "outputs": [
    {
     "name": "stdout",
     "output_type": "stream",
     "text": [
      "Found 4585 images belonging to 10 classes.\n"
     ]
    }
   ],
   "source": [
    "test_set = test_datagen.flow_from_directory('New Plant Diseases Dataset(Augmented)/valid',\n",
    "                                            target_size = (224, 224),\n",
    "                                            batch_size = 32,\n",
    "                                            class_mode = 'categorical')"
   ]
  },
  {
   "cell_type": "code",
   "execution_count": 17,
   "metadata": {
    "colab": {
     "base_uri": "https://localhost:8080/"
    },
    "id": "TUnY3q1KnSf7",
    "outputId": "d670b46a-5f36-41b5-8bf1-87debec43def"
   },
   "outputs": [
    {
     "name": "stdout",
     "output_type": "stream",
     "text": [
      "Epoch 1/30\n",
      "574/574 [==============================] - 1696s 3s/step - loss: 0.7528 - accuracy: 0.7535 - val_loss: 0.4828 - val_accuracy: 0.8386\n",
      "Epoch 2/30\n",
      "574/574 [==============================] - 1819s 3s/step - loss: 0.4291 - accuracy: 0.8567 - val_loss: 0.6250 - val_accuracy: 0.8185\n",
      "Epoch 3/30\n",
      "574/574 [==============================] - 1791s 3s/step - loss: 0.3521 - accuracy: 0.8829 - val_loss: 0.5547 - val_accuracy: 0.8262\n",
      "Epoch 4/30\n",
      "574/574 [==============================] - 1794s 3s/step - loss: 0.2808 - accuracy: 0.9043 - val_loss: 0.3603 - val_accuracy: 0.8846\n",
      "Epoch 5/30\n",
      "574/574 [==============================] - 1703s 3s/step - loss: 0.2746 - accuracy: 0.9074 - val_loss: 0.5491 - val_accuracy: 0.8366\n",
      "Epoch 6/30\n",
      "574/574 [==============================] - 1710s 3s/step - loss: 0.2380 - accuracy: 0.9198 - val_loss: 0.3736 - val_accuracy: 0.8894\n",
      "Epoch 7/30\n",
      "574/574 [==============================] - 1718s 3s/step - loss: 0.2486 - accuracy: 0.9188 - val_loss: 0.3031 - val_accuracy: 0.9108\n",
      "Epoch 8/30\n",
      "574/574 [==============================] - 1732s 3s/step - loss: 0.2103 - accuracy: 0.9301 - val_loss: 0.2958 - val_accuracy: 0.9110\n",
      "Epoch 9/30\n",
      "574/574 [==============================] - 1715s 3s/step - loss: 0.2123 - accuracy: 0.9308 - val_loss: 0.2705 - val_accuracy: 0.9184\n",
      "Epoch 10/30\n",
      "574/574 [==============================] - 1714s 3s/step - loss: 0.1898 - accuracy: 0.9396 - val_loss: 0.4699 - val_accuracy: 0.8816\n",
      "Epoch 11/30\n",
      "574/574 [==============================] - 1718s 3s/step - loss: 0.1866 - accuracy: 0.9372 - val_loss: 0.3185 - val_accuracy: 0.9084\n",
      "Epoch 12/30\n",
      "574/574 [==============================] - 1802s 3s/step - loss: 0.1964 - accuracy: 0.9382 - val_loss: 0.2895 - val_accuracy: 0.9239\n",
      "Epoch 13/30\n",
      "574/574 [==============================] - 1735s 3s/step - loss: 0.1517 - accuracy: 0.9497 - val_loss: 0.2931 - val_accuracy: 0.9215\n",
      "Epoch 14/30\n",
      "574/574 [==============================] - 1723s 3s/step - loss: 0.1790 - accuracy: 0.9428 - val_loss: 0.4073 - val_accuracy: 0.9003\n",
      "Epoch 15/30\n",
      "574/574 [==============================] - 1743s 3s/step - loss: 0.1522 - accuracy: 0.9485 - val_loss: 0.3107 - val_accuracy: 0.9165\n",
      "Epoch 16/30\n",
      "574/574 [==============================] - 1722s 3s/step - loss: 0.1508 - accuracy: 0.9526 - val_loss: 0.4080 - val_accuracy: 0.8933\n",
      "Epoch 17/30\n",
      "574/574 [==============================] - 1717s 3s/step - loss: 0.1670 - accuracy: 0.9469 - val_loss: 0.2902 - val_accuracy: 0.9239\n",
      "Epoch 18/30\n",
      "574/574 [==============================] - 1858s 3s/step - loss: 0.1246 - accuracy: 0.9609 - val_loss: 0.5362 - val_accuracy: 0.8881\n",
      "Epoch 19/30\n",
      "574/574 [==============================] - 1833s 3s/step - loss: 0.1356 - accuracy: 0.9563 - val_loss: 0.2806 - val_accuracy: 0.9276\n",
      "Epoch 20/30\n",
      "574/574 [==============================] - 1783s 3s/step - loss: 0.1269 - accuracy: 0.9599 - val_loss: 0.3150 - val_accuracy: 0.9195\n",
      "Epoch 21/30\n",
      "574/574 [==============================] - 1740s 3s/step - loss: 0.1347 - accuracy: 0.9580 - val_loss: 0.3264 - val_accuracy: 0.9245\n",
      "Epoch 22/30\n",
      "574/574 [==============================] - 1659s 3s/step - loss: 0.1372 - accuracy: 0.9575 - val_loss: 0.5260 - val_accuracy: 0.8907\n",
      "Epoch 23/30\n",
      "574/574 [==============================] - 1663s 3s/step - loss: 0.1043 - accuracy: 0.9660 - val_loss: 0.4038 - val_accuracy: 0.9095\n",
      "Epoch 24/30\n",
      "574/574 [==============================] - 1732s 3s/step - loss: 0.1418 - accuracy: 0.9572 - val_loss: 0.3490 - val_accuracy: 0.9206\n",
      "Epoch 25/30\n",
      "574/574 [==============================] - 1689s 3s/step - loss: 0.1143 - accuracy: 0.9646 - val_loss: 0.2972 - val_accuracy: 0.9293\n",
      "Epoch 26/30\n",
      "574/574 [==============================] - 1758s 3s/step - loss: 0.1056 - accuracy: 0.9674 - val_loss: 0.3228 - val_accuracy: 0.9280\n",
      "Epoch 27/30\n",
      "574/574 [==============================] - 1803s 3s/step - loss: 0.1273 - accuracy: 0.9620 - val_loss: 0.2857 - val_accuracy: 0.9368\n",
      "Epoch 28/30\n",
      "574/574 [==============================] - 1889s 3s/step - loss: 0.0973 - accuracy: 0.9705 - val_loss: 0.3164 - val_accuracy: 0.9311\n",
      "Epoch 29/30\n",
      "574/574 [==============================] - 1686s 3s/step - loss: 0.1122 - accuracy: 0.9635 - val_loss: 0.2834 - val_accuracy: 0.9374\n",
      "Epoch 30/30\n",
      "574/574 [==============================] - 1843s 3s/step - loss: 0.0973 - accuracy: 0.9708 - val_loss: 0.4210 - val_accuracy: 0.9156\n"
     ]
    }
   ],
   "source": [
    "# fit the model\n",
    "# Run the cell. It will take some time to execute\n",
    "r = model.fit(\n",
    "  training_set,\n",
    "  validation_data=test_set,\n",
    "  epochs=30,\n",
    "  steps_per_epoch=len(training_set),\n",
    "  validation_steps=len(test_set)\n",
    ")"
   ]
  },
  {
   "cell_type": "code",
   "execution_count": 18,
   "metadata": {
    "id": "M1cDrxU8nWmk"
   },
   "outputs": [],
   "source": [
    "import matplotlib.pyplot as plt"
   ]
  },
  {
   "cell_type": "code",
   "execution_count": 19,
   "metadata": {
    "id": "jElnv6GlJ_3D"
   },
   "outputs": [
    {
     "data": {
      "image/png": "[encoded data removed]",
      "text/plain": [
       "<Figure size 640x480 with 1 Axes>"
      ]
     },
     "metadata": {},
     "output_type": "display_data"
    },
    {
     "data": {
      "image/png": "[encoded data removed]",
      "text/plain": [
       "<Figure size 640x480 with 1 Axes>"
      ]
     },
     "metadata": {},
     "output_type": "display_data"
    },
    {
     "data": {
      "text/plain": [
       "<Figure size 640x480 with 0 Axes>"
      ]
     },
     "metadata": {},
     "output_type": "display_data"
    }
   ],
   "source": [
    "# plot the loss\n",
    "plt.plot(r.history['loss'], label='train loss')\n",
    "plt.plot(r.history['val_loss'], label='val loss')\n",
    "plt.legend()\n",
    "plt.show()\n",
    "\n",
    "# plot the accuracy\n",
    "plt.plot(r.history['accuracy'], label='train acc')\n",
    "plt.plot(r.history['val_accuracy'], label='val acc')\n",
    "plt.legend()\n",
    "plt.show()"
   ]
  },
  {
   "cell_type": "code",
   "execution_count": 20,
   "metadata": {
    "id": "cmm9JiWsKADi"
   },
   "outputs": [],
   "source": [
    "# save it as a h5 file\n",
    "\n",
    "\n",
    "from tensorflow.keras.models import load_model\n",
    "\n",
    "model.save('model_vgg16.h5')"
   ]
  },
  {
   "cell_type": "code",
   "execution_count": 21,
   "metadata": {
    "id": "38KVpVT8KFND"
   },
   "outputs": [
    {
     "name": "stdout",
     "output_type": "stream",
     "text": [
      "144/144 [==============================] - 363s 3s/step\n"
     ]
    }
   ],
   "source": [
    "y_pred = model.predict(test_set)"
   ]
  },
  {
   "cell_type": "code",
   "execution_count": 22,
   "metadata": {
    "id": "rxM-waRTKAG5"
   },
   "outputs": [
    {
     "data": {
      "text/plain": [
       "array([[3.9155812e-14, 5.0509169e-07, 9.9831700e-01, ..., 8.5713626e-17,\n",
       "        5.9188804e-21, 1.8524933e-16],\n",
       "       [1.7401448e-19, 4.8295526e-13, 1.7063730e-12, ..., 7.7687585e-14,\n",
       "        2.0398326e-15, 9.4606814e-12],\n",
       "       [6.3969945e-12, 2.3722011e-08, 2.3110124e-08, ..., 1.7192169e-16,\n",
       "        3.1594211e-10, 9.0964671e-13],\n",
       "       ...,\n",
       "       [7.5125808e-12, 1.6859769e-06, 8.2735678e-05, ..., 9.0391353e-08,\n",
       "        3.1786709e-10, 6.9159009e-06],\n",
       "       [5.1352770e-18, 9.5196360e-01, 1.1497620e-08, ..., 2.4462784e-11,\n",
       "        1.7852041e-15, 1.0350378e-10],\n",
       "       [1.2106011e-21, 8.9202883e-14, 5.0045907e-07, ..., 3.5310882e-19,\n",
       "        3.0221583e-17, 2.4334888e-19]], dtype=float32)"
      ]
     },
     "execution_count": 22,
     "metadata": {},
     "output_type": "execute_result"
    }
   ],
   "source": [
    "y_pred"
   ]
  },
  {
   "cell_type": "code",
   "execution_count": null,
   "metadata": {},
   "outputs": [],
   "source": []
  }
 ],
 "metadata": {
  "colab": {
   "provenance": []
  },
  "gpuClass": "standard",
  "kernelspec": {
   "display_name": "Python 3 (ipykernel)",
   "language": "python",
   "name": "python3"
  },
  "language_info": {
   "codemirror_mode": {
    "name": "ipython",
    "version": 3
   },
   "file_extension": ".py",
   "mimetype": "text/x-python",
   "name": "python",
   "nbconvert_exporter": "python",
   "pygments_lexer": "ipython3",
   "version": "3.9.16"
  }
 },
 "nbformat": 4,
 "nbformat_minor": 1
}
